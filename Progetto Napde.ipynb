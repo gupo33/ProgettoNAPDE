{
 "cells": [
  {
   "cell_type": "code",
   "execution_count": null,
   "metadata": {},
   "outputs": [],
   "source": [
    "!wget https://github.com/gupo33/ProgettoNAPDE/raw/refs/heads/master/testairfoil.msh\n",
    "#run this code only in colab, otherwise the mesh should be found in the same folder as the notebook"
   ]
  },
  {
   "cell_type": "markdown",
   "metadata": {
    "id": "J8fONVX7K0kw"
   },
   "source": [
    "# Imports"
   ]
  },
  {
   "cell_type": "code",
   "execution_count": null,
   "metadata": {
    "colab": {
     "base_uri": "https://localhost:8080/"
    },
    "collapsed": true,
    "executionInfo": {
     "elapsed": 87429,
     "status": "ok",
     "timestamp": 1731482744539,
     "user": {
      "displayName": "Federica Musazzi",
      "userId": "00219510616838287049"
     },
     "user_tz": -60
    },
    "id": "6eogDw4pwPFS",
    "outputId": "f62dd6e0-8b82-4600-a482-fc9ae2df11c3"
   },
   "outputs": [],
   "source": [
    "try:\n",
    "    from firedrake import *\n",
    "except ImportError:\n",
    "    !wget \"https://fem-on-colab.github.io/releases/firedrake-install-real.sh\" -O \"/tmp/firedrake-install.sh\" && bash \"/tmp/firedrake-install.sh\"\n",
    "    #this only works in colab: on a local machine, firedrake should be installed before running this notebook\n",
    "    from firedrake import *"
   ]
  },
  {
   "cell_type": "code",
   "execution_count": null,
   "metadata": {
    "colab": {
     "base_uri": "https://localhost:8080/"
    },
    "collapsed": true,
    "executionInfo": {
     "elapsed": 23404,
     "status": "ok",
     "timestamp": 1731482767933,
     "user": {
      "displayName": "Federica Musazzi",
      "userId": "00219510616838287049"
     },
     "user_tz": -60
    },
    "id": "3HeDDwVGD2sE",
    "outputId": "9a539a54-22e8-4885-9a25-c893cd9d3c89"
   },
   "outputs": [],
   "source": [
    "try:\n",
    "  from pygem import FFD,RBF\n",
    "except ImportError:\n",
    "  !git clone https://github.com/mathLab/PyGeM\n",
    "  %cd PyGeM\n",
    "  !python3.10 setup.py install\n",
    "  from pygem import FFD,RBF\n",
    "  %cd .."
   ]
  },
  {
   "cell_type": "code",
   "execution_count": null,
   "metadata": {},
   "outputs": [],
   "source": [
    "try:\n",
    "  from stable_baselines3 import PPO\n",
    "except ImportError:\n",
    "  !pip install stable_baselines3\n",
    "  from stable_baselines3 import PPO"
   ]
  },
  {
   "cell_type": "code",
   "execution_count": null,
   "metadata": {},
   "outputs": [],
   "source": [
    "try:\n",
    "  import shimmy\n",
    "except ImportError:\n",
    "  !pip install shimmy\n",
    "  import shimmy"
   ]
  },
  {
   "cell_type": "code",
   "execution_count": null,
   "metadata": {
    "executionInfo": {
     "elapsed": 12,
     "status": "ok",
     "timestamp": 1731482767935,
     "user": {
      "displayName": "Federica Musazzi",
      "userId": "00219510616838287049"
     },
     "user_tz": -60
    },
    "id": "ssk46Z_g21ta"
   },
   "outputs": [],
   "source": [
    "import matplotlib.pyplot as plt\n",
    "import numpy as np\n",
    "import gym\n",
    "from gym import spaces\n",
    "import time"
   ]
  },
  {
   "cell_type": "markdown",
   "metadata": {
    "id": "t7c3fY7fffDX"
   },
   "source": [
    "# Import the mesh"
   ]
  },
  {
   "cell_type": "code",
   "execution_count": null,
   "metadata": {
    "id": "SWiJSv3qC4Fc"
   },
   "outputs": [],
   "source": [
    "M = Mesh('testairfoil.msh')"
   ]
  },
  {
   "cell_type": "markdown",
   "metadata": {
    "id": "E5KFySVp_roA"
   },
   "source": [
    "# Plot the mesh"
   ]
  },
  {
   "cell_type": "code",
   "execution_count": null,
   "metadata": {
    "colab": {
     "base_uri": "https://localhost:8080/",
     "height": 105
    },
    "executionInfo": {
     "elapsed": 1114,
     "status": "ok",
     "timestamp": 1729756946070,
     "user": {
      "displayName": "Federica Musazzi",
      "userId": "00219510616838287049"
     },
     "user_tz": -120
    },
    "id": "X91nUcLgfnGP",
    "outputId": "f1feb71f-2ce9-4e6b-a64b-9403195a6790"
   },
   "outputs": [],
   "source": [
    "fig, ax = plt.subplots()\n",
    "triplot(M, axes=ax)\n",
    "ax.axis('equal')\n",
    "ax.legend()"
   ]
  },
  {
   "cell_type": "code",
   "execution_count": null,
   "metadata": {
    "colab": {
     "base_uri": "https://localhost:8080/",
     "height": 88
    },
    "executionInfo": {
     "elapsed": 680,
     "status": "ok",
     "timestamp": 1729756946744,
     "user": {
      "displayName": "Federica Musazzi",
      "userId": "00219510616838287049"
     },
     "user_tz": -120
    },
    "id": "bZ4yK6unfwcs",
    "outputId": "eec3e139-b66e-466e-bd82-a7e5d6a5e3a2"
   },
   "outputs": [],
   "source": [
    "fig, ax = plt.subplots()\n",
    "triplot(M, axes=ax)\n",
    "ax.axis('equal')\n",
    "ax.set_xlim(-0.5,1.5)\n",
    "ax.set_ylim(-0.35,0.35)"
   ]
  },
  {
   "cell_type": "markdown",
   "metadata": {
    "id": "CevkcSawmYRJ"
   },
   "source": [
    "# Solve problem with SUPG N-S with Stokes starting point"
   ]
  },
  {
   "cell_type": "markdown",
   "metadata": {
    "id": "AUOdyYkg088g"
   },
   "source": [
    "## Solve stokes to obtain a starting point"
   ]
  },
  {
   "cell_type": "code",
   "execution_count": null,
   "metadata": {
    "colab": {
     "base_uri": "https://localhost:8080/",
     "height": 122
    },
    "executionInfo": {
     "elapsed": 7854,
     "status": "ok",
     "timestamp": 1731057319638,
     "user": {
      "displayName": "Federica Musazzi",
      "userId": "00219510616838287049"
     },
     "user_tz": -60
    },
    "id": "EEN2XKdHwLsC",
    "outputId": "b2bbe705-b893-4b4b-b201-e7b6a941d212"
   },
   "outputs": [],
   "source": [
    "# function space\n",
    "V=VectorFunctionSpace(M, 'P', 2) # velocity\n",
    "Q=FunctionSpace(M, 'P', 1) # pressure\n",
    "W=MixedFunctionSpace([V, Q])\n",
    "\n",
    "# trial and test functions\n",
    "u, p=TrialFunctions(W)\n",
    "v, q=TestFunctions(W)\n",
    "\n",
    "# data\n",
    "x=SpatialCoordinate(M)\n",
    "Uinf=as_vector([1,0])\n",
    "\n",
    "# problem\n",
    "a=inner(grad(u), grad(v))*dx - p*div(v)*dx+ q*div(u)*dx\n",
    "L=inner(Constant((0,0)),v)*dx\n",
    "\n",
    "# Dirichlet BC\n",
    "bc1=DirichletBC(W.sub(0), as_vector([0,0]), 0)\n",
    "bc2=DirichletBC(W.sub(0), Uinf, 1)\n",
    "bcs=(bc1, bc2)\n",
    "\n",
    "#solution\n",
    "w_stokes=Function(W)\n",
    "solve(a==L, w_stokes, bcs=bcs)\n",
    "# u_h, p_h=split(wh) no split command works only for trial and test funtion\n",
    "u_stokes, p_stokes=w_stokes.subfunctions\n",
    "\n",
    "fig, ax = plt.subplots()\n",
    "q=tripcolor(p_stokes, axes=ax)\n",
    "fig.colorbar(q)\n",
    "fig, ax = plt.subplots()\n",
    "q=quiver(u_stokes, axes=ax)\n",
    "fig.colorbar(q)"
   ]
  },
  {
   "cell_type": "markdown",
   "metadata": {
    "id": "wYIZiccVmYRL"
   },
   "source": [
    "## Set Reynolds Number\n"
   ]
  },
  {
   "cell_type": "code",
   "execution_count": null,
   "metadata": {
    "id": "ydPYySPnWzR_"
   },
   "outputs": [],
   "source": [
    "Re = Constant(3500)"
   ]
  },
  {
   "cell_type": "markdown",
   "metadata": {
    "id": "wr5D0N_czm_H"
   },
   "source": [
    "## Solve Navier Stokes with SUPG Stabilization"
   ]
  },
  {
   "cell_type": "code",
   "execution_count": null,
   "metadata": {
    "id": "ZT26lrFzzqIM"
   },
   "outputs": [],
   "source": [
    "def a(u,v, Re):\n",
    "    return 1/Re*inner(grad(u), grad(v))*dx\n",
    "\n",
    "def c(w,u,v):\n",
    "    return inner(dot(grad(u), w),v)*dx\n",
    "\n",
    "def b(v,q):\n",
    "    return -q*div(v)*dx\n",
    "\n",
    "def stabilization(u_old, u, p, v, q, M, Re):\n",
    "    ubar = Function(FunctionSpace(M, 'DG', 0))\n",
    "    ubar.project(sqrt(inner(u_old, u_old)))\n",
    "    h = CellDiameter(M)\n",
    "    Re_K = h * ubar * Re\n",
    "    one  = Constant(1.0)\n",
    "    delta=Constant(1.0)\n",
    "    delta_K = delta * conditional(gt(Re_K, one),  h/(ubar+1e-5), h*h*Re)\n",
    "\n",
    "    L= -1.0/Re*div(grad(u))+ dot(grad(u_old), u) + dot(grad(u), u_old)+ grad(p)\n",
    "    Lss = dot(grad(u_old),v) + dot(grad(v),u_old) + grad(q)+ 0.5*div(u_old)*v\n",
    "\n",
    "    lhs= delta_K * inner(L, Lss)*dx + delta_K*div(u)*div(v)*dx\n",
    "    rhs=delta_K*inner(dot(grad(u_old), u_old), Lss)*dx\n",
    "\n",
    "    return lhs, rhs\n"
   ]
  },
  {
   "cell_type": "code",
   "execution_count": null,
   "metadata": {
    "id": "wfbBu4lD3jZf"
   },
   "outputs": [],
   "source": [
    "# Function spaces (mixed formulation)\n",
    "V = VectorFunctionSpace(M, 'P', 2)\n",
    "Q = FunctionSpace(M, 'P', 1)\n",
    "W = MixedFunctionSpace([V, Q])\n",
    "\n",
    "# Data and boundary conditions\n",
    "f = Constant((0.,0.))\n",
    "\n",
    "u_in = as_vector([1., 0.])\n",
    "\n",
    "bc1 = DirichletBC(W.sub(0), Constant((0.,0.)), 0) # Dirichlet no-slip B.C. on the airfoil\n",
    "bc2 = DirichletBC(W.sub(0), u_in, 1) # Dirichlet unitary B.C. on the inflow boundary\n",
    "bc3 = DirichletBC(W.sub(1), 0, 0) # Dirichlet unitary B.C. on the inflow boundary\n",
    "bcs = (bc1, bc2)"
   ]
  },
  {
   "cell_type": "code",
   "execution_count": null,
   "metadata": {
    "colab": {
     "base_uri": "https://localhost:8080/"
    },
    "executionInfo": {
     "elapsed": 7237,
     "status": "ok",
     "timestamp": 1731057959830,
     "user": {
      "displayName": "Federica Musazzi",
      "userId": "00219510616838287049"
     },
     "user_tz": -60
    },
    "id": "wmirVXskz2QE",
    "outputId": "cde3439f-61f7-4616-b78e-8b72863edbd7"
   },
   "outputs": [],
   "source": [
    "# Trial and test functions\n",
    "u, p = TrialFunctions(W) # trial functions\n",
    "v, q = TestFunctions(W) # test functions\n",
    "\n",
    "param = {'ksp_type':'gmres',\n",
    "         'ksp_pc_type':'ilu',\n",
    "         'ksp_maxit':1000,\n",
    "         'ksp_rtol':1e-8,\n",
    "         'snes_rtol':1e-3,\n",
    "         'snes_maxit':100,\n",
    "       }\n",
    "\n",
    "# solution\n",
    "wh = Function(W)\n",
    "uh, ph = wh.subfunctions\n",
    "wh.assign(w_stokes) #initialization with stokes solution\n",
    "\n",
    "maxit=100\n",
    "tol=1e-8\n",
    "it=0\n",
    "err=tol+1\n",
    "delta=1\n",
    "\n",
    "u_old = Function(V)\n",
    "u_old.assign(uh)\n",
    "p_old = Function(Q)\n",
    "p_old.assign(ph)\n",
    "\n",
    "\n",
    "\n",
    "while it < maxit and err > tol:\n",
    "  lhs, rhs = stabilization(u_old, u, p, v, q, M, Re)\n",
    "  G = a(u,v,Re) + c(u,u_old,v)+c(u_old,u,v)-b(u,q)+b(v,p)+lhs\n",
    "  L = inner(f,v)*dx +rhs + c(u_old, u_old,v)\n",
    "  pb = LinearVariationalProblem(G, L , wh, bcs=bcs)\n",
    "  solver = LinearVariationalSolver(pb, solver_parameters=param)\n",
    "  solver.solve()\n",
    "  uh, ph = wh.subfunctions\n",
    "  err = (errornorm(uh, u_old, 'H1') / norm(u_old, 'H1') + errornorm(ph, p_old, 'L2') / norm(p_old, 'L2'))\n",
    "  u_old.assign(uh)\n",
    "  p_old.assign(ph)\n",
    "  it+=1\n",
    "\n",
    "print(it)"
   ]
  },
  {
   "cell_type": "markdown",
   "metadata": {
    "id": "-U4Zg5F3WzSE"
   },
   "source": [
    "## Plotting the solution"
   ]
  },
  {
   "cell_type": "code",
   "execution_count": null,
   "metadata": {
    "colab": {
     "base_uri": "https://localhost:8080/"
    },
    "executionInfo": {
     "elapsed": 9600,
     "status": "ok",
     "timestamp": 1729756998594,
     "user": {
      "displayName": "Federica Musazzi",
      "userId": "00219510616838287049"
     },
     "user_tz": -120
    },
    "id": "CqUHp26VMYSf",
    "outputId": "cf21ad41-3465-4e31-f178-ac55b7381493"
   },
   "outputs": [],
   "source": [
    "uh, ph = wh.subfunctions\n",
    "outfileU = File(\"output/velocity.pvd\")\n",
    "outfileP = File(\"output/pressure.pvd\")\n",
    "uh.rename(\"Velocity\")   # this name will be used in Paraview\n",
    "ph.rename(\"Pressure\")   # this name will be used in Paraview\n",
    "outfileU.write(uh)\n",
    "outfileP.write(ph)"
   ]
  },
  {
   "cell_type": "code",
   "execution_count": null,
   "metadata": {
    "colab": {
     "base_uri": "https://localhost:8080/",
     "height": 1000
    },
    "executionInfo": {
     "elapsed": 2794,
     "status": "ok",
     "timestamp": 1731057982969,
     "user": {
      "displayName": "Federica Musazzi",
      "userId": "00219510616838287049"
     },
     "user_tz": -60
    },
    "id": "TmBkf9Ovzq86",
    "outputId": "cdad74d7-9e05-4c05-ba61-01737c7bb966"
   },
   "outputs": [],
   "source": [
    "u_h, p_h = wh.subfunctions\n",
    "fig, ax = plt.subplots()\n",
    "q=tripcolor(p_h, axes=ax)\n",
    "fig.colorbar(q)\n",
    "ax.set_xlim(-3, 4)\n",
    "ax.set_ylim(-3, 3)\n",
    "\n",
    "fig, ax = plt.subplots()\n",
    "q=quiver(u_h, axes=ax)\n",
    "fig.colorbar(q)\n",
    "ax.set_xlim(-3, 4)\n",
    "ax.set_ylim(-3, 3)\n",
    "\n",
    "fig, ax = plt.subplots()\n",
    "q=tripcolor(u_h, axes=ax)\n",
    "fig.colorbar(q)\n",
    "ax.set_xlim(-3, 4)\n",
    "ax.set_ylim(-3, 3)"
   ]
  },
  {
   "cell_type": "markdown",
   "metadata": {
    "id": "-IbYuAFQ1tvw"
   },
   "source": [
    "## Computing lift and drag coefficients"
   ]
  },
  {
   "cell_type": "code",
   "execution_count": null,
   "metadata": {
    "colab": {
     "base_uri": "https://localhost:8080/"
    },
    "executionInfo": {
     "elapsed": 291,
     "status": "ok",
     "timestamp": 1731057986085,
     "user": {
      "displayName": "Federica Musazzi",
      "userId": "00219510616838287049"
     },
     "user_tz": -60
    },
    "id": "pwVI87xekwPF",
    "outputId": "0ada8cef-7027-4ae5-91fe-c49dccaf0e3b"
   },
   "outputs": [],
   "source": [
    "T=p_h * Identity(2) - 1/Re * (grad(u_h) + grad(u_h).T)\n",
    "n=FacetNormal(M)\n",
    "Cd=assemble(inner(T*n, as_vector([1,0]))*ds(0))/0.5\n",
    "Cl=assemble(inner(T*n, as_vector([0,1]))*ds(0))/0.5\n",
    "print(Cd)\n",
    "print(Cl)"
   ]
  },
  {
   "cell_type": "markdown",
   "metadata": {
    "id": "BEZMofquW3J1"
   },
   "source": [
    "# Mesh deformation"
   ]
  },
  {
   "cell_type": "markdown",
   "metadata": {
    "id": "ekzsvvEL_roN"
   },
   "source": [
    "## Node Extraction"
   ]
  },
  {
   "cell_type": "code",
   "execution_count": null,
   "metadata": {
    "colab": {
     "base_uri": "https://localhost:8080/"
    },
    "executionInfo": {
     "elapsed": 853,
     "status": "ok",
     "timestamp": 1729623680310,
     "user": {
      "displayName": "Federica Musazzi",
      "userId": "00219510616838287049"
     },
     "user_tz": -120
    },
    "id": "_oglno6ClPwy",
    "outputId": "a3d439da-4771-43ac-dffd-e5d1c66698df"
   },
   "outputs": [],
   "source": [
    "coord=M.coordinates.dat.data\n",
    "coord.shape"
   ]
  },
  {
   "cell_type": "code",
   "execution_count": null,
   "metadata": {
    "id": "Hov5jx2a_roP"
   },
   "outputs": [],
   "source": [
    "#extend coord to make it work with FFD\n",
    "coord = np.c_[coord,np.ones(coord.shape[0])]"
   ]
  },
  {
   "cell_type": "code",
   "execution_count": null,
   "metadata": {
    "colab": {
     "base_uri": "https://localhost:8080/",
     "height": 447
    },
    "executionInfo": {
     "elapsed": 22,
     "status": "ok",
     "timestamp": 1729623688379,
     "user": {
      "displayName": "Federica Musazzi",
      "userId": "00219510616838287049"
     },
     "user_tz": -120
    },
    "id": "J_p_3RT0e--Y",
    "outputId": "19ae1d40-842c-4bdd-9270-fb1169aba80b"
   },
   "outputs": [],
   "source": [
    "plt.plot(coord[:,0], coord[:,1], '.')"
   ]
  },
  {
   "cell_type": "code",
   "execution_count": null,
   "metadata": {
    "id": "Kv4YrkUaifbS"
   },
   "outputs": [],
   "source": [
    "X = VectorFunctionSpace(M, 'P', 1)\n",
    "\n",
    "b1 = DirichletBC(X, Constant((0.,0.)), 0) # Dirichlet no-slip B.C. on the airfoil\n",
    "b2 = DirichletBC(X, Constant((0.,0.)), [1, 2, 3, 4]) # Dirichlet unitary B.C. on the inflow boundary\n"
   ]
  },
  {
   "cell_type": "code",
   "execution_count": null,
   "metadata": {
    "colab": {
     "base_uri": "https://localhost:8080/",
     "height": 448
    },
    "executionInfo": {
     "elapsed": 18,
     "status": "ok",
     "timestamp": 1729623688379,
     "user": {
      "displayName": "Federica Musazzi",
      "userId": "00219510616838287049"
     },
     "user_tz": -120
    },
    "id": "5ByUcfyGkVGO",
    "outputId": "c34c1b3f-a058-4eb8-f50e-e5162647835b"
   },
   "outputs": [],
   "source": [
    "#extract obstacle points\n",
    "obstacle=coord[b1.nodes, :]\n",
    "plt.plot(obstacle[:,0], obstacle[:,1], '.')\n",
    "plt.axis('equal')"
   ]
  },
  {
   "cell_type": "code",
   "execution_count": null,
   "metadata": {
    "colab": {
     "base_uri": "https://localhost:8080/",
     "height": 447
    },
    "executionInfo": {
     "elapsed": 1039,
     "status": "ok",
     "timestamp": 1729623689405,
     "user": {
      "displayName": "Federica Musazzi",
      "userId": "00219510616838287049"
     },
     "user_tz": -120
    },
    "id": "mw2K1hIYlLW1",
    "outputId": "af53a523-6c4a-45ae-ad50-fc2b942d1efe"
   },
   "outputs": [],
   "source": [
    "ext_boundary=coord[b2.nodes, :]\n",
    "plt.plot(ext_boundary[:,0], ext_boundary[:,1], '.')\n",
    "plt.axis('equal')\n"
   ]
  },
  {
   "cell_type": "markdown",
   "metadata": {
    "id": "krou4HtN_roR"
   },
   "source": [
    "## Airfoil deformation"
   ]
  },
  {
   "cell_type": "code",
   "execution_count": null,
   "metadata": {
    "collapsed": true,
    "id": "7oP-aCUQL5b8"
   },
   "outputs": [],
   "source": [
    "ffd = FFD([6, 2, 1]) #initialize free-form deformation object with the dimensions of the matrix of control points\n",
    "\n",
    "#define bounding box in which object to deform is contained (position of control points)\n",
    "\n",
    "ffd.box_origin = np.array([0,-0.5,0.9])\n",
    "ffd.box_length = np.array([1,1,1.1])\n"
   ]
  },
  {
   "cell_type": "code",
   "execution_count": null,
   "metadata": {
    "colab": {
     "base_uri": "https://localhost:8080/",
     "height": 670
    },
    "executionInfo": {
     "elapsed": 18,
     "status": "ok",
     "timestamp": 1729623689406,
     "user": {
      "displayName": "Federica Musazzi",
      "userId": "00219510616838287049"
     },
     "user_tz": -120
    },
    "id": "lGwTtorj_roS",
    "outputId": "769fdc18-da30-4d6f-c050-239b0583c25f"
   },
   "outputs": [],
   "source": [
    "ax = plt.figure(figsize=(8,8)).add_subplot(111)\n",
    "ax.scatter(*ffd.control_points().T)\n",
    "ax.scatter(obstacle[:,0],obstacle[:,1])\n",
    "ax.axis('equal')"
   ]
  },
  {
   "cell_type": "code",
   "execution_count": null,
   "metadata": {
    "id": "P0M43uOc_roT"
   },
   "outputs": [],
   "source": [
    "#define movement in each direction for each control point\n",
    "\n",
    "#ffd.array_mu_x[2, 2, 0] = 0.5\n",
    "ffd.array_mu_y[1:-1,:,0] = -0.02\n",
    "#ffd.array_mu_z[1, 1, 0] = 0."
   ]
  },
  {
   "cell_type": "code",
   "execution_count": null,
   "metadata": {
    "colab": {
     "base_uri": "https://localhost:8080/",
     "height": 447
    },
    "executionInfo": {
     "elapsed": 555,
     "status": "ok",
     "timestamp": 1729623689949,
     "user": {
      "displayName": "Federica Musazzi",
      "userId": "00219510616838287049"
     },
     "user_tz": -120
    },
    "id": "6VZswxOtmBvl",
    "outputId": "cbb0bddd-fbd5-4868-87a3-2a76a9fad680"
   },
   "outputs": [],
   "source": [
    "new_obstacle = ffd(obstacle)\n",
    "plt.plot(new_obstacle[:,0], new_obstacle[:,1], '.')\n",
    "plt.plot(obstacle[:,0], obstacle[:,1], '.')\n",
    "plt.axis('equal')"
   ]
  },
  {
   "cell_type": "code",
   "execution_count": null,
   "metadata": {
    "id": "uxO_1hrAngWW"
   },
   "outputs": [],
   "source": [
    "undeformed_points_full = np.vstack([ext_boundary, obstacle])\n",
    "deformed_points_full= np.vstack([ext_boundary, new_obstacle])\n",
    "\n",
    "undeformed_points, uindexes = np.unique(undeformed_points_full, return_index=True, axis=0)\n",
    "deformed_points   = deformed_points_full[uindexes]\n",
    "\n",
    "rbf = RBF(original_control_points=undeformed_points, deformed_control_points=deformed_points,func='polyharmonic_spline',radius = 0.2)"
   ]
  },
  {
   "cell_type": "code",
   "execution_count": null,
   "metadata": {},
   "outputs": [],
   "source": [
    " \n",
    "plt.plot(undeformed_points_full[:,0],undeformed_points_full[:,1],'.')\n",
    "plt.plot(deformed_points_full[:,0],deformed_points_full[:,1],'.')\n",
    "plt.axis('equal')"
   ]
  },
  {
   "cell_type": "code",
   "execution_count": null,
   "metadata": {
    "id": "3OrrJ48Mn4vC"
   },
   "outputs": [],
   "source": [
    "#propagate deformation to the whole mesh\n",
    "new_coord=rbf(coord)"
   ]
  },
  {
   "cell_type": "code",
   "execution_count": null,
   "metadata": {
    "colab": {
     "base_uri": "https://localhost:8080/",
     "height": 498
    },
    "executionInfo": {
     "elapsed": 508,
     "status": "ok",
     "timestamp": 1729623691144,
     "user": {
      "displayName": "Federica Musazzi",
      "userId": "00219510616838287049"
     },
     "user_tz": -120
    },
    "id": "rdUG93ZPPOlo",
    "outputId": "8d6524d8-5cd0-404a-afb0-44bd14491699"
   },
   "outputs": [],
   "source": [
    "plt.plot(new_coord[:,0], new_coord[:,1], '.')\n",
    "plt.axis('equal')"
   ]
  },
  {
   "cell_type": "code",
   "execution_count": null,
   "metadata": {
    "colab": {
     "base_uri": "https://localhost:8080/"
    },
    "executionInfo": {
     "elapsed": 16,
     "status": "ok",
     "timestamp": 1729623691145,
     "user": {
      "displayName": "Federica Musazzi",
      "userId": "00219510616838287049"
     },
     "user_tz": -120
    },
    "id": "Ry2zE9fFTWcx",
    "outputId": "54d97056-cbeb-415a-82b1-48f373f67c98"
   },
   "outputs": [],
   "source": [
    "new_coords_func = Function(M.coordinates.function_space())\n",
    "new_coords_func.dat.data[:] = new_coord[:,:2]\n",
    "M.coordinates.assign(new_coords_func)\n"
   ]
  },
  {
   "cell_type": "code",
   "execution_count": null,
   "metadata": {
    "colab": {
     "base_uri": "https://localhost:8080/",
     "height": 447
    },
    "executionInfo": {
     "elapsed": 756,
     "status": "ok",
     "timestamp": 1729623691889,
     "user": {
      "displayName": "Federica Musazzi",
      "userId": "00219510616838287049"
     },
     "user_tz": -120
    },
    "id": "qLjtVuc7Tel9",
    "outputId": "6244f0d0-81da-483a-db2c-82981324d5d8"
   },
   "outputs": [],
   "source": [
    "fig, ax = plt.subplots()\n",
    "triplot(M, axes=ax)\n",
    "ax.axis('equal')\n",
    "ax.set_xlim(-0.5,1.5)\n",
    "ax.set_ylim(-0.35,0.35)"
   ]
  },
  {
   "cell_type": "markdown",
   "metadata": {
    "id": "lEKTpKGnmc0E"
   },
   "source": [
    "# Reinforcement learning"
   ]
  },
  {
   "cell_type": "markdown",
   "metadata": {
    "id": "Te3GtYHbMfBM"
   },
   "source": [
    "## CFD solver"
   ]
  },
  {
   "cell_type": "code",
   "execution_count": null,
   "metadata": {
    "id": "JwyQkhmTm4r_"
   },
   "outputs": [],
   "source": [
    "M = Mesh('testairfoil.msh')\n",
    "\n",
    "# Define files to store the output in\n",
    "\n",
    "outfileU = VTKFile(\"velocity.pvd\")\n",
    "outfileP = VTKFile(\"pressure.pvd\")\n"
   ]
  },
  {
   "cell_type": "code",
   "execution_count": null,
   "metadata": {
    "executionInfo": {
     "elapsed": 307,
     "status": "ok",
     "timestamp": 1731483596578,
     "user": {
      "displayName": "Federica Musazzi",
      "userId": "00219510616838287049"
     },
     "user_tz": -60
    },
    "id": "99tk3WH2mkH2"
   },
   "outputs": [],
   "source": [
    "class CFDSolver:\n",
    "    def __init__(self, mesh, reynolds_number):\n",
    "        self.mesh = mesh\n",
    "        self.Re = reynolds_number\n",
    "\n",
    "        # Define finite element spaces and mixed formulation (Velocity and Pressure)\n",
    "        self.V = VectorFunctionSpace(mesh, 'P', 2)\n",
    "        self.Q = FunctionSpace(mesh, 'P', 1)\n",
    "        self.W = MixedFunctionSpace([self.V, self.Q])\n",
    "\n",
    "        # Define data\n",
    "        self.f=Constant((0.,0.))\n",
    "\n",
    "        # Define boundary conditions\n",
    "        self.define_boundary_conditions()\n",
    "\n",
    "        # Initialize the problem\n",
    "        self.wh = Function(self.W)  # Solution function (velocity, pressure)\n",
    "        self.uh, self.ph = self.wh.subfunctions\n",
    "\n",
    "    def define_boundary_conditions(self):\n",
    "        u_in = as_vector([1., 0.])\n",
    "        bc1 = DirichletBC(self.W.sub(0), Constant((0.,0.)), 0) # No-slip on airfoil\n",
    "        bc2 = DirichletBC(self.W.sub(0), u_in, 1) # Unitary inflow condition\n",
    "        self.bcs = [bc1, bc2]\n",
    "\n",
    "    def solve_stokes(self):\n",
    "        # Define the trial and test functions\n",
    "        u, p = TrialFunctions(self.W)\n",
    "        v, q = TestFunctions(self.W)\n",
    "\n",
    "        # Define the Stokes variational problem (no convective term)\n",
    "        a_stokes = (1/self.Re) * inner(grad(u), grad(v)) * dx - div(v) * p * dx - q * div(u) * dx\n",
    "        L_stokes = inner(Constant((0., 0.)), v) * dx  # No external force\n",
    "\n",
    "        # Solve the Stokes problem\n",
    "        wh_stokes = Function(self.W)\n",
    "        init_problem = LinearVariationalProblem(a_stokes, L_stokes, wh_stokes, bcs=self.bcs)\n",
    "        solver_init =  LinearVariationalSolver(init_problem)\n",
    "        solver_init.solve()\n",
    "\n",
    "        # Assign Stokes solution to initial values of Navier-Stokes solver\n",
    "        self.wh.assign(wh_stokes)\n",
    "        print(\"Stokes solution computed and set as initial condition.\")\n",
    "\n",
    "    def run_solver(self):\n",
    "\n",
    "        def a(u,v, Re):\n",
    "            return 1/Re*inner(grad(u), grad(v))*dx\n",
    "\n",
    "        def c(w,u,v):\n",
    "            return inner(dot(grad(u), w),v)*dx\n",
    "\n",
    "        def b(v,q):\n",
    "            return -q*div(v)*dx\n",
    "\n",
    "        def stabilization(u_old, u, p, v, q, M, Re):\n",
    "            ubar = Function(FunctionSpace(M, 'DG', 0))\n",
    "            ubar.project(sqrt(inner(u_old, u_old)))\n",
    "            h = CellDiameter(M)\n",
    "            Re_K = h * ubar * Re\n",
    "            one  = Constant(1.0)\n",
    "            delta=Constant(1.0)\n",
    "            delta_K = delta * conditional(gt(Re_K, one),  h/(ubar+1e-5), h*h*Re)\n",
    "\n",
    "            L= -1.0/Re*div(grad(u))+ dot(grad(u_old), u) + dot(grad(u), u_old)+ grad(p)\n",
    "            Lss = dot(skew(grad(u_old)),v) + dot(grad(v),u_old) + grad(q) + 0.5*div(u_old)*v\n",
    "\n",
    "            lhs= delta_K * inner(L, Lss)*dx + delta_K*div(u)*div(v)*dx\n",
    "            rhs=delta_K*inner(dot(grad(u_old), u_old), Lss)*dx\n",
    "\n",
    "            return lhs, rhs\n",
    "\n",
    "        # First, solve the Stokes problem for initialization\n",
    "        self.solve_stokes()\n",
    "\n",
    "        # Define the trial and test functions\n",
    "        u, p = TrialFunctions(self.W)\n",
    "        v, q = TestFunctions(self.W)\n",
    "\n",
    "        maxit = 1000\n",
    "        tol = 1e-8\n",
    "        it = 0\n",
    "        err = tol + 1\n",
    "\n",
    "        # Prepare previous solution functions for iterations\n",
    "        u_old = Function(self.V)\n",
    "        u_old.assign(self.uh)\n",
    "        p_old = Function(self.Q)\n",
    "        p_old.assign(self.ph)\n",
    "\n",
    "        param = {'ksp_type':'gmres',\n",
    "         'ksp_pc_type':'ilu',\n",
    "         'ksp_maxit':1000,\n",
    "         'ksp_rtol':1e-8,\n",
    "       }\n",
    "\n",
    "        while it < maxit and err > tol:\n",
    "          it+=1\n",
    "          lhs, rhs = stabilization(u_old, u, p, v, q, self.mesh, self.Re)\n",
    "          G = a(u,v,self.Re) + c(u,u_old,v)+c(u_old,u,v)-b(u,q)+b(v,p)+lhs\n",
    "          L = inner(self.f,v)*dx + rhs + c(u_old, u_old,v)\n",
    "          pb = LinearVariationalProblem(G, L , self.wh, bcs=self.bcs)\n",
    "          solver = LinearVariationalSolver(pb, solver_parameters=param)\n",
    "          solver.solve()\n",
    "          self.uh, self.ph = self.wh.subfunctions\n",
    "\n",
    "          err = (errornorm(self.uh, u_old, 'H1') / norm(u_old, 'H1') + errornorm(self.ph, p_old, 'L2') / norm(p_old, 'L2'))\n",
    "\n",
    "          u_old.assign(self.uh)\n",
    "          p_old.assign(self.ph)\n",
    "\n",
    "        if it>maxit:\n",
    "            print(\"Max iterations reached\")\n",
    "        else:\n",
    "            print(\"Solver converged in\", it, \"iterations\")\n",
    "\n",
    "        #store the results\n",
    "\n",
    "        self.uh.rename(\"Velocity\")   # this name will be used in Paraview\n",
    "        self.ph.rename(\"Pressure\")   # this name will be used in Paraview\n",
    "        outfileU.write(self.uh)\n",
    "        outfileP.write(self.ph)\n",
    "\n",
    "        # Calculate Cd and Cl\n",
    "        Cd, Cl = self.calculate_drag_lift()\n",
    "        return Cd, Cl\n",
    "\n",
    "    def calculate_drag_lift(self):\n",
    "        T=self.ph * Identity(2) - 1/(self.Re) * (grad(self.uh) + grad(self.uh).T)\n",
    "        n=FacetNormal(self.mesh)\n",
    "        Cd=assemble(inner(T*n, as_vector([1,0]))*ds(0))/0.5\n",
    "        Cl=assemble(inner(T*n, as_vector([0,1]))*ds(0))/0.5\n",
    "        return Cd, Cl\n",
    "\n",
    "    def plot_solution(self):\n",
    "        fig, ax = plt.subplots()\n",
    "        q=tripcolor(self.ph, axes=ax)\n",
    "        fig.colorbar(q)\n",
    "        ax.set_xlim(-3, 4)\n",
    "        ax.set_ylim(-3, 3)\n",
    "\n",
    "        fig, ax = plt.subplots()\n",
    "        q=quiver(self.uh, axes=ax)\n",
    "        fig.colorbar(q)\n",
    "        ax.set_xlim(-3, 4)\n",
    "        ax.set_ylim(-3, 3)\n",
    "\n",
    "    def get_pressure(self):\n",
    "        X = VectorFunctionSpace(self.mesh, 'P', 1)\n",
    "        b1 = DirichletBC(X, Constant((0., 0.)), 0)\n",
    "        return self.ph.dat.data[b1.nodes]\n",
    "        "
   ]
  },
  {
   "cell_type": "markdown",
   "metadata": {
    "id": "91HCxBwoMqvm"
   },
   "source": [
    "## RL environment"
   ]
  },
  {
   "cell_type": "code",
   "execution_count": null,
   "metadata": {},
   "outputs": [],
   "source": [
    "class AirfoilDeformationEnv(gym.Env):\n",
    "    def __init__(self, initial_mesh, deformation_limits=(-0.1, 0.1)):\n",
    "        super(AirfoilDeformationEnv, self).__init__()\n",
    "\n",
    "        # Initialize mesh and CFD solver\n",
    "        self.initial_mesh = initial_mesh\n",
    "        self.mesh = Mesh(initial_mesh)\n",
    "        self.cfd_solver = CFDSolver(self.mesh, 3500)\n",
    "        self.deformation_limits = deformation_limits\n",
    "\n",
    "        #Initialize undeformed points\n",
    "\n",
    "        self.coord = self.mesh.coordinates.dat.data\n",
    "        self.coord = np.c_[self.coord, np.ones(self.coord.shape[0])]\n",
    "        X = VectorFunctionSpace(self.mesh, 'P', 1)\n",
    "        b1 = DirichletBC(X, Constant((0., 0.)), 0)\n",
    "        b2 = DirichletBC(X, Constant((0., 0.)), [1, 2, 3, 4])\n",
    "\n",
    "        self.obstacle = self.coord[b1.nodes, :]\n",
    "        self.ext_boundary = self.coord[b2.nodes, :]\n",
    "\n",
    "        undeformed_points_full = np.vstack([self.ext_boundary, self.obstacle])\n",
    "        self.undeformed_points, self.uindexes = np.unique(undeformed_points_full, return_index=True, axis=0)\n",
    "\n",
    "        #Initialize FFD bounding box\n",
    "\n",
    "        self.ffd = FFD([6, 2, 1])\n",
    "        self.ffd.box_origin = np.array([0,-0.5,0.9])\n",
    "        self.ffd.box_length = np.array([1,1,1.1])\n",
    "\n",
    "        # Define action space\n",
    "        self.action_space = spaces.Box(\n",
    "            low=self.deformation_limits[0],\n",
    "            high=self.deformation_limits[1],\n",
    "            shape=(4,2), \n",
    "            dtype=np.float32\n",
    "        )\n",
    "        print(\"Action space initialized:\", self.action_space)\n",
    "\n",
    "        self.cfd_solver.run_solver()\n",
    "\n",
    "        # Define observation space\n",
    "        self.observation_space = spaces.Box(\n",
    "            low=-1, high=1,\n",
    "            shape=self.cfd_solver.get_pressure().shape,\n",
    "            dtype=np.float32\n",
    "        )\n",
    "        print(\"Observation space initialized:\", self.observation_space)\n",
    "\n",
    "        self.reset()\n",
    "\n",
    "    def step(self, action):\n",
    "        print(\"Action received in step:\")\n",
    "        print(action)\n",
    "\n",
    "        # Check if action contains NaNs\n",
    "        if np.isnan(action).any():\n",
    "            raise ValueError(\"NaN detected in action!\")\n",
    "\n",
    "        # Perform mesh deformation\n",
    "\n",
    "        self.mesh_deformation(action)\n",
    "        self.cfd_solver = CFDSolver(self.mesh, 3500)\n",
    "\n",
    "        # Compute Cd and Cl using CFD solver\n",
    "        t = time.time()\n",
    "        Cd, Cl = self.cfd_solver.run_solver()\n",
    "        #self.cfd_solver.plot_solution()\n",
    "        print(\"time spent for solution: \", time.time() - t)\n",
    "\n",
    "        # Calculate reward\n",
    "        reward = self.calculate_reward(Cd, Cl)\n",
    "        done = False  # Continual optimization\n",
    "\n",
    "        # Observation from mesh coordinates\n",
    "        observation = self.cfd_solver.get_pressure()\n",
    "        if np.isnan(observation).any():\n",
    "            raise ValueError(\"NaN detected in observation after step!\")\n",
    "        #print(\"Observation after step:\")\n",
    "        #print(observation)\n",
    "\n",
    "        return observation, reward, done, {}\n",
    "\n",
    "    def reset(self):\n",
    "        print(\"Resetting environment and mesh\")\n",
    "        self.mesh = Mesh(self.initial_mesh)\n",
    "\n",
    "        # Confirm no NaNs in reset mesh coordinates\n",
    "        observation = self.cfd_solver.get_pressure()\n",
    "        if np.isnan(observation).any():\n",
    "            raise ValueError(\"NaN detected in mesh coordinates after reset!\")\n",
    "\n",
    "        return observation\n",
    "\n",
    "    def mesh_deformation(self, parameters):\n",
    "\n",
    "        t = time.time()\n",
    "\n",
    "        #Reset mesh\n",
    "        \n",
    "        self.mesh = Mesh(self.initial_mesh)\n",
    "\n",
    "        print(\"Deforming mesh with parameters:\")\n",
    "        print(parameters)\n",
    "\n",
    "        if np.isnan(parameters).any():\n",
    "            raise ValueError(\"NaN detected in deformation parameters!\")\n",
    "\n",
    "        #Apply FFD\n",
    "        \n",
    "        self.ffd.array_mu_y[1:-1,:,0] = parameters\n",
    "\n",
    "\n",
    "        # Apply RBF\n",
    "        new_obstacle = self.ffd(self.obstacle)\n",
    "        #plt.plot(new_obstacle[:,0], new_obstacle[:,1], '.')\n",
    "        #plt.plot(obstacle[:,0], obstacle[:,1], '.')\n",
    "        #plt.axis('equal')\n",
    "        deformed_points_full = np.vstack([self.ext_boundary, new_obstacle])\n",
    "        deformed_points = deformed_points_full[self.uindexes]\n",
    "        rbf = RBF(original_control_points=self.undeformed_points, deformed_control_points=deformed_points, func = 'polyharmonic_spline', radius = 0.2)\n",
    "        new_coord = rbf(self.coord)\n",
    "\n",
    "        # Update mesh\n",
    "        new_coords_func = Function(self.mesh.coordinates.function_space())\n",
    "        new_coords_func.dat.data[:, :2] = new_coord[:, :2]\n",
    "        self.mesh.coordinates.assign(new_coords_func)\n",
    "\n",
    "        print(\"time spent for deformation: \", time.time() - t)\n",
    "\n",
    "    def calculate_reward(self, Cd, Cl):\n",
    "        rw = Cl/Cd\n",
    "        print(\"lift: \",Cl)\n",
    "        print(\"drag: \",Cd)\n",
    "        print(\"Reward: \",rw)\n",
    "        return rw\n",
    "    \n",
    "    \n"
   ]
  },
  {
   "cell_type": "markdown",
   "metadata": {},
   "source": [
    "# Reinforcement Learning"
   ]
  },
  {
   "cell_type": "markdown",
   "metadata": {},
   "source": [
    "## Setting up environment and agent"
   ]
  },
  {
   "cell_type": "code",
   "execution_count": null,
   "metadata": {
    "colab": {
     "base_uri": "https://localhost:8080/",
     "height": 1000
    },
    "id": "Ucs93PW2bjR3",
    "outputId": "1b536811-8731-4803-8139-94d2f15d3bcb"
   },
   "outputs": [],
   "source": [
    "# Define initial mesh and control points of the airfoil\n",
    "initial_mesh =\"testairfoil.msh\"\n",
    "\n",
    "# Create the environment with the CFD solver, initial mesh, and control points\n",
    "env3 = AirfoilDeformationEnv(initial_mesh)\n",
    "\n",
    "# Create the PPO agent\n",
    "model = PPO(\"MlpPolicy\", env3, verbose=1)"
   ]
  },
  {
   "cell_type": "markdown",
   "metadata": {},
   "source": [
    "## Model Training"
   ]
  },
  {
   "cell_type": "code",
   "execution_count": null,
   "metadata": {},
   "outputs": [],
   "source": [
    "# Train the agent\n",
    "model.learn(total_timesteps=100)\n",
    "\n",
    "# Save the trained model\n",
    "\n",
    "model.save('PPOairfoil.zip')"
   ]
  },
  {
   "cell_type": "markdown",
   "metadata": {},
   "source": [
    "## Model Testing"
   ]
  },
  {
   "cell_type": "code",
   "execution_count": null,
   "metadata": {
    "colab": {
     "base_uri": "https://localhost:8080/",
     "height": 1000
    },
    "executionInfo": {
     "elapsed": 27891,
     "status": "error",
     "timestamp": 1731447358842,
     "user": {
      "displayName": "Federica Musazzi",
      "userId": "00219510616838287049"
     },
     "user_tz": -60
    },
    "id": "F8qEGNKzHP-p",
    "outputId": "83cf35f7-db6a-4c95-c0f7-b21d3f0b2125"
   },
   "outputs": [],
   "source": [
    "# Load the trained model\n",
    "\n",
    "model = model.load('PPOairfoil.zip', force_reset = True)\n",
    "\n",
    "# Reset environment to get initial state\n",
    "obs = env3.reset()\n",
    "\n",
    "# Run the PPO agent to deform the airfoil contour\n",
    "action, _states = model.predict(obs, deterministic=True)\n",
    "obs, reward, done, info = env3.step(action)"
   ]
  }
 ],
 "metadata": {
  "accelerator": "TPU",
  "colab": {
   "collapsed_sections": [
    "J8fONVX7K0kw",
    "t7c3fY7fffDX",
    "E5KFySVp_roA",
    "AUOdyYkg088g"
   ],
   "gpuType": "V28",
   "provenance": [],
   "toc_visible": true
  },
  "kernelspec": {
   "display_name": "firedrake",
   "language": "python",
   "name": "python3"
  },
  "language_info": {
   "codemirror_mode": {
    "name": "ipython",
    "version": 3
   },
   "file_extension": ".py",
   "mimetype": "text/x-python",
   "name": "python",
   "nbconvert_exporter": "python",
   "pygments_lexer": "ipython3",
   "version": "3.11.10"
  }
 },
 "nbformat": 4,
 "nbformat_minor": 1
}
